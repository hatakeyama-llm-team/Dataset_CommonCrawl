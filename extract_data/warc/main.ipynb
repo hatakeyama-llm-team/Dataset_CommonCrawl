{
 "cells": [
  {
   "cell_type": "markdown",
   "source": [
    "# 手順\n",
    "\n",
    "## 0.事前準備\n",
    "\n",
    "## 1. download_path_list.pyを実行して、ダウンロードするファイルのリストを取得\n",
    "## 2. download_and_parse.pyを実行して、ダウンロードしたファイルを解析して、データを取得\n",
    "### 100の部分を変更することで、取得するbatch_numberを変更できます。"
   ],
   "metadata": {
    "collapsed": false
   },
   "id": "f7de3a25662ea160"
  },
  {
   "cell_type": "markdown",
   "source": [],
   "metadata": {
    "collapsed": false
   },
   "id": "bec3bc11a672af49"
  },
  {
   "cell_type": "code",
   "execution_count": 5,
   "outputs": [
    {
     "data": {
      "text/plain": "'/Users/eijit/work/Dataset_CommonCrawl/extract_data/warc'"
     },
     "execution_count": 5,
     "metadata": {},
     "output_type": "execute_result"
    }
   ],
   "source": [
    "\n",
    "# 必要ファイルをインストールする\n",
    "!mkdir -p extract_data/warc/data/lm_sp\n",
    "!wget -c  -P extract_data/warc/data/lm_sp http://dl.fbaipublicfiles.com/cc_net/lm/ja.arpa.bin\n",
    "!wget -c  -P extract_data/warc/data/lm_sp http://dl.fbaipublicfiles.com/cc_net/lm/ja.sp.model"
   ],
   "metadata": {
    "collapsed": false,
    "ExecuteTime": {
     "end_time": "2024-03-11T04:00:12.523177Z",
     "start_time": "2024-03-11T04:00:12.518713Z"
    }
   },
   "id": "88e3d751ee16edc4"
  },
  {
   "cell_type": "code",
   "execution_count": 6,
   "outputs": [
    {
     "name": "stdout",
     "output_type": "stream",
     "text": [
      "ファイルが正常にダウンロードされました: data/path_list/CC-MAIN-2023-50.gz\r\n",
      "data/path_list/CC-MAIN-2023-50.gzが解凍され、data/path_list/CC-MAIN-2023-50に保存されました。\r\n"
     ]
    }
   ],
   "source": [
    "! python download_path_list.py"
   ],
   "metadata": {
    "ExecuteTime": {
     "end_time": "2024-03-11T04:00:14.560928Z",
     "start_time": "2024-03-11T04:00:13.427341Z"
    }
   },
   "id": "d2dafbcb-d99d-432e-b3a8-79da2663538a"
  },
  {
   "cell_type": "code",
   "execution_count": 8,
   "id": "8d2689dc-fb86-4362-bfa9-3b7f3ba0bc29",
   "metadata": {
    "ExecuteTime": {
     "end_time": "2024-03-11T04:00:39.886083Z",
     "start_time": "2024-03-11T04:00:27.773167Z"
    }
   },
   "outputs": [
    {
     "name": "stdout",
     "output_type": "stream",
     "text": [
      "/Users/eijit/.asdf/installs/python/miniforge3-latest/envs/crawl/lib/python3.12/site-packages/datasets/load.py:1461: FutureWarning: The repository for mc4 contains custom code which must be executed to correctly load the dataset. You can inspect the repository content at https://hf.co/datasets/mc4\r\n",
      "You can avoid this message in future by passing the argument `trust_remote_code=True`.\r\n",
      "Passing `trust_remote_code=True` will be mandatory to load this dataset from the next major release of `datasets`.\r\n",
      "  warnings.warn(\r\n",
      "/Users/eijit/.cache/huggingface/modules/datasets_modules/datasets/mc4/78f7a2b7e2524fa44ee464ef429d011c365f5fe129283869e7fd76856aacb83a/mc4.py:284: FutureWarning: Dataset 'mc4' is deprecated and will be deleted. Use 'allenai/c4' instead.\r\n",
      "  warnings.warn(\r\n",
      "data/path_list/CC-MAIN-2023-50\r\n",
      "  0%|                                                    | 0/10 [00:00<?, ?it/s]downloading mode with s3 \r\n",
      "warc_pathにはファイルが存在しています\r\n",
      "parsing data/warc/crawl-data_CC-MAIN-2023-50_segments_1700679099514.72_warc_CC-MAIN-20231128115347-20231128145347-00100.warc\r\n",
      "\r\n",
      "0it [00:00, ?it/s]\u001B[A\r\n",
      "downloading mode with s3 \r\n",
      "warc_pathにはファイルが存在しています\r\n",
      "parsing data/warc/crawl-data_CC-MAIN-2023-50_segments_1700679099514.72_warc_CC-MAIN-20231128115347-20231128145347-00101.warc\r\n",
      "\r\n",
      "0it [00:00, ?it/s]\u001B[A\r\n",
      "downloading mode with s3 \r\n",
      "warc_pathにはファイルが存在しています\r\n",
      "parsing data/warc/crawl-data_CC-MAIN-2023-50_segments_1700679099514.72_warc_CC-MAIN-20231128115347-20231128145347-00102.warc\r\n",
      "\r\n",
      "0it [00:00, ?it/s]\u001B[A\r\n",
      "downloading mode with s3 \r\n",
      "warc_pathにはファイルが存在しています\r\n",
      "parsing data/warc/crawl-data_CC-MAIN-2023-50_segments_1700679099514.72_warc_CC-MAIN-20231128115347-20231128145347-00103.warc\r\n",
      "\r\n",
      "0it [00:00, ?it/s]\u001B[A\r\n",
      "downloading mode with s3 \r\n",
      "warc_pathにはファイルが存在しています\r\n",
      "parsing data/warc/crawl-data_CC-MAIN-2023-50_segments_1700679099514.72_warc_CC-MAIN-20231128115347-20231128145347-00104.warc\r\n",
      "\r\n",
      "0it [00:00, ?it/s]\u001B[A\r\n",
      "downloading mode with s3 \r\n",
      "warc_pathにはファイルが存在しています\r\n",
      "parsing data/warc/crawl-data_CC-MAIN-2023-50_segments_1700679099514.72_warc_CC-MAIN-20231128115347-20231128145347-00105.warc\r\n",
      "\r\n",
      "0it [00:00, ?it/s]\u001B[A\r\n",
      "downloading mode with s3 \r\n",
      "warc_pathにはファイルが存在しています\r\n",
      "parsing data/warc/crawl-data_CC-MAIN-2023-50_segments_1700679099514.72_warc_CC-MAIN-20231128115347-20231128145347-00106.warc\r\n",
      "\r\n",
      "0it [00:00, ?it/s]\u001B[A\r\n",
      "downloading mode with s3 \r\n",
      "warc_pathにはファイルが存在しています\r\n",
      "parsing data/warc/crawl-data_CC-MAIN-2023-50_segments_1700679099514.72_warc_CC-MAIN-20231128115347-20231128145347-00107.warc\r\n",
      "\r\n",
      "0it [00:00, ?it/s]\u001B[A\r\n",
      "downloading mode with s3 \r\n",
      "warc_pathにはファイルが存在しています\r\n",
      "parsing data/warc/crawl-data_CC-MAIN-2023-50_segments_1700679099514.72_warc_CC-MAIN-20231128115347-20231128145347-00108.warc\r\n",
      "\r\n",
      "0it [00:00, ?it/s]\u001B[A\r\n",
      "downloading mode with s3 \r\n",
      "warc_pathにはファイルが存在しています\r\n",
      "parsing data/warc/crawl-data_CC-MAIN-2023-50_segments_1700679099514.72_warc_CC-MAIN-20231128115347-20231128145347-00109.warc\r\n",
      "\r\n",
      "0it [00:00, ?it/s]\u001B[A\r\n",
      "100%|█████████████████████████████████████████| 10/10 [00:00<00:00, 2365.12it/s]\r\n",
      "Traceback (most recent call last):\r\n",
      "  File \"/Users/eijit/work/Dataset_CommonCrawl/extract_data/warc/download_and_parse.py\", line 170, in <module>\r\n",
      "    main()\r\n",
      "  File \"/Users/eijit/work/Dataset_CommonCrawl/extract_data/warc/download_and_parse.py\", line 164, in main\r\n",
      "    put_s3(f\"{submit_dir}.zip\", f\"{submit_dir}.zip\")\r\n",
      "  File \"/Users/eijit/work/Dataset_CommonCrawl/extract_data/warc/src/s3_utils.py\", line 46, in put_s3\r\n",
      "    s3.upload_file(file_name, ZIP_UPLOAD_S3_BUCKET, file_path)\r\n",
      "  File \"/Users/eijit/.asdf/installs/python/miniforge3-latest/envs/crawl/lib/python3.12/site-packages/boto3/s3/inject.py\", line 145, in upload_file\r\n",
      "    return transfer.upload_file(\r\n",
      "           ^^^^^^^^^^^^^^^^^^^^^\r\n",
      "  File \"/Users/eijit/.asdf/installs/python/miniforge3-latest/envs/crawl/lib/python3.12/site-packages/boto3/s3/transfer.py\", line 371, in upload_file\r\n",
      "    future.result()\r\n",
      "  File \"/Users/eijit/.asdf/installs/python/miniforge3-latest/envs/crawl/lib/python3.12/site-packages/s3transfer/futures.py\", line 103, in result\r\n",
      "    return self._coordinator.result()\r\n",
      "           ^^^^^^^^^^^^^^^^^^^^^^^^^^\r\n",
      "  File \"/Users/eijit/.asdf/installs/python/miniforge3-latest/envs/crawl/lib/python3.12/site-packages/s3transfer/futures.py\", line 266, in result\r\n",
      "    raise self._exception\r\n",
      "  File \"/Users/eijit/.asdf/installs/python/miniforge3-latest/envs/crawl/lib/python3.12/site-packages/s3transfer/tasks.py\", line 139, in __call__\r\n",
      "    return self._execute_main(kwargs)\r\n",
      "           ^^^^^^^^^^^^^^^^^^^^^^^^^^\r\n",
      "  File \"/Users/eijit/.asdf/installs/python/miniforge3-latest/envs/crawl/lib/python3.12/site-packages/s3transfer/tasks.py\", line 162, in _execute_main\r\n",
      "    return_value = self._main(**kwargs)\r\n",
      "                   ^^^^^^^^^^^^^^^^^^^^\r\n",
      "  File \"/Users/eijit/.asdf/installs/python/miniforge3-latest/envs/crawl/lib/python3.12/site-packages/s3transfer/upload.py\", line 764, in _main\r\n",
      "    client.put_object(Bucket=bucket, Key=key, Body=body, **extra_args)\r\n",
      "  File \"/Users/eijit/.asdf/installs/python/miniforge3-latest/envs/crawl/lib/python3.12/site-packages/botocore/client.py\", line 553, in _api_call\r\n",
      "    return self._make_api_call(operation_name, kwargs)\r\n",
      "           ^^^^^^^^^^^^^^^^^^^^^^^^^^^^^^^^^^^^^^^^^^^\r\n",
      "  File \"/Users/eijit/.asdf/installs/python/miniforge3-latest/envs/crawl/lib/python3.12/site-packages/botocore/client.py\", line 989, in _make_api_call\r\n",
      "    http, parsed_response = self._make_request(\r\n",
      "                            ^^^^^^^^^^^^^^^^^^^\r\n",
      "  File \"/Users/eijit/.asdf/installs/python/miniforge3-latest/envs/crawl/lib/python3.12/site-packages/botocore/client.py\", line 1015, in _make_request\r\n",
      "    return self._endpoint.make_request(operation_model, request_dict)\r\n",
      "           ^^^^^^^^^^^^^^^^^^^^^^^^^^^^^^^^^^^^^^^^^^^^^^^^^^^^^^^^^^\r\n",
      "  File \"/Users/eijit/.asdf/installs/python/miniforge3-latest/envs/crawl/lib/python3.12/site-packages/botocore/endpoint.py\", line 119, in make_request\r\n",
      "    return self._send_request(request_dict, operation_model)\r\n",
      "           ^^^^^^^^^^^^^^^^^^^^^^^^^^^^^^^^^^^^^^^^^^^^^^^^^\r\n",
      "  File \"/Users/eijit/.asdf/installs/python/miniforge3-latest/envs/crawl/lib/python3.12/site-packages/botocore/endpoint.py\", line 198, in _send_request\r\n",
      "    request = self.create_request(request_dict, operation_model)\r\n",
      "              ^^^^^^^^^^^^^^^^^^^^^^^^^^^^^^^^^^^^^^^^^^^^^^^^^^\r\n",
      "  File \"/Users/eijit/.asdf/installs/python/miniforge3-latest/envs/crawl/lib/python3.12/site-packages/botocore/endpoint.py\", line 134, in create_request\r\n",
      "    self._event_emitter.emit(\r\n",
      "  File \"/Users/eijit/.asdf/installs/python/miniforge3-latest/envs/crawl/lib/python3.12/site-packages/botocore/hooks.py\", line 412, in emit\r\n",
      "    return self._emitter.emit(aliased_event_name, **kwargs)\r\n",
      "           ^^^^^^^^^^^^^^^^^^^^^^^^^^^^^^^^^^^^^^^^^^^^^^^^\r\n",
      "  File \"/Users/eijit/.asdf/installs/python/miniforge3-latest/envs/crawl/lib/python3.12/site-packages/botocore/hooks.py\", line 256, in emit\r\n",
      "    return self._emit(event_name, kwargs)\r\n",
      "           ^^^^^^^^^^^^^^^^^^^^^^^^^^^^^^\r\n",
      "  File \"/Users/eijit/.asdf/installs/python/miniforge3-latest/envs/crawl/lib/python3.12/site-packages/botocore/hooks.py\", line 239, in _emit\r\n",
      "    response = handler(**kwargs)\r\n",
      "               ^^^^^^^^^^^^^^^^^\r\n",
      "  File \"/Users/eijit/.asdf/installs/python/miniforge3-latest/envs/crawl/lib/python3.12/site-packages/botocore/signers.py\", line 105, in handler\r\n",
      "    return self.sign(operation_name, request)\r\n",
      "           ^^^^^^^^^^^^^^^^^^^^^^^^^^^^^^^^^^\r\n",
      "  File \"/Users/eijit/.asdf/installs/python/miniforge3-latest/envs/crawl/lib/python3.12/site-packages/botocore/signers.py\", line 186, in sign\r\n",
      "    auth = self.get_auth_instance(**kwargs)\r\n",
      "           ^^^^^^^^^^^^^^^^^^^^^^^^^^^^^^^^\r\n",
      "  File \"/Users/eijit/.asdf/installs/python/miniforge3-latest/envs/crawl/lib/python3.12/site-packages/botocore/signers.py\", line 301, in get_auth_instance\r\n",
      "    frozen_credentials = credentials.get_frozen_credentials()\r\n",
      "                         ^^^^^^^^^^^^^^^^^^^^^^^^^^^^^^^^^^^^\r\n",
      "  File \"/Users/eijit/.asdf/installs/python/miniforge3-latest/envs/crawl/lib/python3.12/site-packages/botocore/credentials.py\", line 634, in get_frozen_credentials\r\n",
      "    self._refresh()\r\n",
      "  File \"/Users/eijit/.asdf/installs/python/miniforge3-latest/envs/crawl/lib/python3.12/site-packages/botocore/credentials.py\", line 522, in _refresh\r\n",
      "    self._protected_refresh(is_mandatory=is_mandatory_refresh)\r\n",
      "  File \"/Users/eijit/.asdf/installs/python/miniforge3-latest/envs/crawl/lib/python3.12/site-packages/botocore/credentials.py\", line 538, in _protected_refresh\r\n",
      "    metadata = self._refresh_using()\r\n",
      "               ^^^^^^^^^^^^^^^^^^^^^\r\n",
      "  File \"/Users/eijit/.asdf/installs/python/miniforge3-latest/envs/crawl/lib/python3.12/site-packages/botocore/credentials.py\", line 685, in fetch_credentials\r\n",
      "    return self._get_cached_credentials()\r\n",
      "           ^^^^^^^^^^^^^^^^^^^^^^^^^^^^^^\r\n",
      "  File \"/Users/eijit/.asdf/installs/python/miniforge3-latest/envs/crawl/lib/python3.12/site-packages/botocore/credentials.py\", line 695, in _get_cached_credentials\r\n",
      "    response = self._get_credentials()\r\n",
      "               ^^^^^^^^^^^^^^^^^^^^^^^\r\n",
      "  File \"/Users/eijit/.asdf/installs/python/miniforge3-latest/envs/crawl/lib/python3.12/site-packages/botocore/credentials.py\", line 2150, in _get_credentials\r\n",
      "    token = initial_token_data.get_frozen_token().token\r\n",
      "            ^^^^^^^^^^^^^^^^^^^^^^^^^^^^^^^^^^^^^\r\n",
      "  File \"/Users/eijit/.asdf/installs/python/miniforge3-latest/envs/crawl/lib/python3.12/site-packages/botocore/tokens.py\", line 82, in get_frozen_token\r\n",
      "    self._refresh()\r\n",
      "  File \"/Users/eijit/.asdf/installs/python/miniforge3-latest/envs/crawl/lib/python3.12/site-packages/botocore/tokens.py\", line 95, in _refresh\r\n",
      "    self._protected_refresh()\r\n",
      "  File \"/Users/eijit/.asdf/installs/python/miniforge3-latest/envs/crawl/lib/python3.12/site-packages/botocore/tokens.py\", line 122, in _protected_refresh\r\n",
      "    raise TokenRetrievalError(\r\n",
      "botocore.exceptions.TokenRetrievalError: Error when retrieving token from sso: Token has expired and refresh failed\r\n"
     ]
    }
   ],
   "source": [
    "! python download_and_parse.py 100 --is_clean=False\n"
   ]
  },
  {
   "cell_type": "code",
   "execution_count": null,
   "id": "36520e8f-b4db-408f-917e-7be83799ffdb",
   "metadata": {},
   "outputs": [],
   "source": []
  }
 ],
 "metadata": {
  "kernelspec": {
   "display_name": "Python 3 (ipykernel)",
   "language": "python",
   "name": "python3"
  },
  "language_info": {
   "codemirror_mode": {
    "name": "ipython",
    "version": 3
   },
   "file_extension": ".py",
   "mimetype": "text/x-python",
   "name": "python",
   "nbconvert_exporter": "python",
   "pygments_lexer": "ipython3",
   "version": "3.10.13"
  }
 },
 "nbformat": 4,
 "nbformat_minor": 5
}
