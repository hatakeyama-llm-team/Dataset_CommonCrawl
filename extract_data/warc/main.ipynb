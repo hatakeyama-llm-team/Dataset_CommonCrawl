{
 "cells": [
  {
   "cell_type": "code",
   "execution_count": 2,
   "id": "6c3c4e74-0924-4403-a693-1781ce286eaf",
   "metadata": {},
   "outputs": [
    {
     "name": "stdout",
     "output_type": "stream",
     "text": [
      "Package                   Version\n",
      "------------------------- ---------------\n",
      "aiohttp                   3.9.3\n",
      "aiosignal                 1.3.1\n",
      "anyio                     4.3.0\n",
      "argon2-cffi               23.1.0\n",
      "argon2-cffi-bindings      21.2.0\n",
      "arrow                     1.3.0\n",
      "asttokens                 2.4.1\n",
      "async-lru                 2.0.4\n",
      "async-timeout             4.0.3\n",
      "attrs                     23.2.0\n",
      "Babel                     2.14.0\n",
      "beautifulsoup4            4.12.3\n",
      "bleach                    6.1.0\n",
      "boto3                     1.34.57\n",
      "botocore                  1.34.57\n",
      "bunkai                    1.5.2\n",
      "certifi                   2024.2.2\n",
      "cffi                      1.16.0\n",
      "charset-normalizer        3.3.2\n",
      "click                     8.1.7\n",
      "comm                      0.2.1\n",
      "dataclasses-json          0.6.4\n",
      "datasets                  2.18.0\n",
      "debugpy                   1.8.1\n",
      "decorator                 5.1.1\n",
      "defusedxml                0.7.1\n",
      "dill                      0.3.8\n",
      "emoji                     1.7.0\n",
      "emojis                    0.7.0\n",
      "exceptiongroup            1.2.0\n",
      "executing                 2.0.1\n",
      "fastjsonschema            2.19.1\n",
      "fasttext                  0.9.2\n",
      "filelock                  3.13.1\n",
      "fqdn                      1.5.1\n",
      "frozenlist                1.4.1\n",
      "fsspec                    2024.2.0\n",
      "gensim                    4.3.2\n",
      "h11                       0.14.0\n",
      "hojichar                  0.9.0\n",
      "httpcore                  1.0.4\n",
      "httpx                     0.27.0\n",
      "huggingface-hub           0.21.4\n",
      "idna                      3.6\n",
      "ipykernel                 6.29.3\n",
      "ipython                   8.22.2\n",
      "ipywidgets                8.1.2\n",
      "isoduration               20.11.0\n",
      "ja-sentence-segmenter     0.0.2\n",
      "Janome                    0.5.0\n",
      "jedi                      0.19.1\n",
      "Jinja2                    3.1.3\n",
      "jmespath                  1.0.1\n",
      "joblib                    1.3.2\n",
      "json5                     0.9.22\n",
      "jsonpointer               2.4\n",
      "jsonschema                4.21.1\n",
      "jsonschema-specifications 2023.12.1\n",
      "jupyter                   1.0.0\n",
      "jupyter_client            8.6.0\n",
      "jupyter-console           6.6.3\n",
      "jupyter_core              5.7.1\n",
      "jupyter-events            0.9.0\n",
      "jupyter-lsp               2.2.4\n",
      "jupyter_server            2.13.0\n",
      "jupyter_server_terminals  0.5.2\n",
      "jupyterlab                4.1.4\n",
      "jupyterlab_pygments       0.3.0\n",
      "jupyterlab_server         2.25.3\n",
      "jupyterlab_widgets        3.0.10\n",
      "kenlm                     0.2.0\n",
      "MarkupSafe                2.1.5\n",
      "marshmallow               3.21.1\n",
      "matplotlib-inline         0.1.6\n",
      "mecab-python3             1.0.8\n",
      "mistune                   3.0.2\n",
      "mmh3                      4.1.0\n",
      "more-itertools            10.2.0\n",
      "multidict                 6.0.5\n",
      "multiprocess              0.70.16\n",
      "mypy-extensions           1.0.0\n",
      "nbclient                  0.9.0\n",
      "nbconvert                 7.16.2\n",
      "nbformat                  5.9.2\n",
      "nest-asyncio              1.6.0\n",
      "nltk                      3.8.1\n",
      "notebook                  7.1.1\n",
      "notebook_shim             0.2.4\n",
      "numpy                     1.26.4\n",
      "overrides                 7.7.0\n",
      "packaging                 23.2\n",
      "pandas                    2.2.1\n",
      "pandocfilters             1.5.1\n",
      "parso                     0.8.3\n",
      "pexpect                   4.9.0\n",
      "pip                       23.0.1\n",
      "platformdirs              4.2.0\n",
      "prometheus_client         0.20.0\n",
      "prompt-toolkit            3.0.43\n",
      "protobuf                  3.19.6\n",
      "psutil                    5.9.8\n",
      "ptyprocess                0.7.0\n",
      "pure-eval                 0.2.2\n",
      "pyarrow                   15.0.0\n",
      "pyarrow-hotfix            0.6\n",
      "pybind11                  2.11.1\n",
      "pycparser                 2.21\n",
      "Pygments                  2.17.2\n",
      "python-dateutil           2.9.0.post0\n",
      "python-json-logger        2.0.7\n",
      "python-tlsh               4.5.0\n",
      "pytz                      2024.1\n",
      "PyYAML                    6.0.1\n",
      "pyzmq                     25.1.2\n",
      "qtconsole                 5.5.1\n",
      "QtPy                      2.4.1\n",
      "referencing               0.33.0\n",
      "regex                     2023.12.25\n",
      "requests                  2.31.0\n",
      "rfc3339-validator         0.1.4\n",
      "rfc3986-validator         0.1.1\n",
      "rpds-py                   0.18.0\n",
      "s3transfer                0.10.0\n",
      "scikit-learn              1.4.1.post1\n",
      "scipy                     1.12.0\n",
      "Send2Trash                1.8.2\n",
      "sentencepiece             0.2.0\n",
      "setuptools                65.5.1\n",
      "six                       1.16.0\n",
      "smart-open                7.0.1\n",
      "sniffio                   1.3.1\n",
      "soupsieve                 2.5\n",
      "Spans                     1.1.1\n",
      "stack-data                0.6.3\n",
      "terminado                 0.18.0\n",
      "threadpoolctl             3.3.0\n",
      "tinycss2                  1.2.1\n",
      "toml                      0.10.2\n",
      "tomli                     2.0.1\n",
      "tornado                   6.4\n",
      "tqdm                      4.66.2\n",
      "traitlets                 5.14.1\n",
      "types-python-dateutil     2.8.19.20240106\n",
      "typing_extensions         4.10.0\n",
      "typing-inspect            0.9.0\n",
      "tzdata                    2024.1\n",
      "uri-template              1.3.0\n",
      "urllib3                   2.0.7\n",
      "warcio                    1.7.4\n",
      "wcwidth                   0.2.13\n",
      "webcolors                 1.13\n",
      "webencodings              0.5.1\n",
      "websocket-client          1.7.0\n",
      "wheel                     0.42.0\n",
      "widgetsnbextension        4.0.10\n",
      "wrapt                     1.16.0\n",
      "xxhash                    3.4.1\n",
      "yarl                      1.9.4\n",
      "\n",
      "\u001b[1m[\u001b[0m\u001b[34;49mnotice\u001b[0m\u001b[1;39;49m]\u001b[0m\u001b[39;49m A new release of pip is available: \u001b[0m\u001b[31;49m23.0.1\u001b[0m\u001b[39;49m -> \u001b[0m\u001b[32;49m24.0\u001b[0m\n",
      "\u001b[1m[\u001b[0m\u001b[34;49mnotice\u001b[0m\u001b[1;39;49m]\u001b[0m\u001b[39;49m To update, run: \u001b[0m\u001b[32;49mpip install --upgrade pip\u001b[0m\n"
     ]
    }
   ],
   "source": [
    "\n",
    "! pip list"
   ]
  },
  {
   "cell_type": "code",
   "execution_count": 6,
   "id": "46a17ddf-3935-4854-8221-279e0fbbb666",
   "metadata": {},
   "outputs": [
    {
     "name": "stdout",
     "output_type": "stream",
     "text": [
      "Traceback (most recent call last):\n",
      "  File \"/app/extract_data/warc/download_and_parse.py\", line 20, in <module>\n",
      "    from warc.src.s3_utils import put_s3\n",
      "ModuleNotFoundError: No module named 'warc'\n"
     ]
    }
   ],
   "source": [
    "import sys\n",
    "sys.path.append('/usr/local/lib/python3.10/site-packages')\n"
   ]
  },
  {
   "cell_type": "code",
   "execution_count": 1,
   "id": "d2dafbcb-d99d-432e-b3a8-79da2663538a",
   "metadata": {},
   "outputs": [
    {
     "name": "stdout",
     "output_type": "stream",
     "text": [
      "/app\n"
     ]
    }
   ],
   "source": [
    "! echo $PYTHONPATH"
   ]
  },
  {
   "cell_type": "code",
   "execution_count": 7,
   "id": "b42a9b54-df08-4c62-828f-d20ab938ad0b",
   "metadata": {},
   "outputs": [
    {
     "name": "stdout",
     "output_type": "stream",
     "text": [
      "\u001b[33mWARNING: Package(s) not found: warc\u001b[0m\u001b[33m\n",
      "\u001b[0m"
     ]
    }
   ],
   "source": [
    "! pip show warc"
   ]
  },
  {
   "cell_type": "code",
   "execution_count": 1,
   "id": "8d2689dc-fb86-4362-bfa9-3b7f3ba0bc29",
   "metadata": {},
   "outputs": [
    {
     "name": "stdout",
     "output_type": "stream",
     "text": [
      "Traceback (most recent call last):\n",
      "  File \"/app/extract_data/warc/download_and_parse.py\", line 20, in <module>\n",
      "    from extract_data.warc.src.s3_utils import put_s3\n",
      "ModuleNotFoundError: No module named 'extract_data'\n"
     ]
    }
   ],
   "source": [
    "! python download_and_parse.py 100"
   ]
  },
  {
   "cell_type": "code",
   "execution_count": null,
   "id": "36520e8f-b4db-408f-917e-7be83799ffdb",
   "metadata": {},
   "outputs": [],
   "source": []
  }
 ],
 "metadata": {
  "kernelspec": {
   "display_name": "Python 3 (ipykernel)",
   "language": "python",
   "name": "python3"
  },
  "language_info": {
   "codemirror_mode": {
    "name": "ipython",
    "version": 3
   },
   "file_extension": ".py",
   "mimetype": "text/x-python",
   "name": "python",
   "nbconvert_exporter": "python",
   "pygments_lexer": "ipython3",
   "version": "3.10.13"
  }
 },
 "nbformat": 4,
 "nbformat_minor": 5
}
